{
 "cells": [
  {
   "cell_type": "markdown",
   "metadata": {},
   "source": [
    "# Problem №1\n",
    "\n",
    "A system, where first order transition between ordered and disordered phase may occur, can be discribe as follows:  $F = F_{0} +a(T-T^{*})\\psi^{2}-C\\psi^{3}+B\\psi^{4}$, where constans $a, B, C > 0$.\n",
    "\n",
    "The condition of minimum: $\\frac{dF}{d\\psi}=0$, which leads to the solutions: \n",
    "\\begin{align}\n",
    "\\psi =  \\begin{cases} 0, & \\mbox{High temperature phase}\\\\ \n",
    "\\frac{3C + \\sqrt{9C^{2}-32aB(T-T^{*})}}{8B}, & \\mbox{Low temperature phase}\\end{cases}\n",
    "\\end{align}\n",
    "\n",
    "From analysis of root one can find:\n",
    "\\begin{align}\n",
    "&9C^{2}-32aB(T-T^{*}) \\geqslant 0 \\\\\n",
    "&T \\leqslant T^{*}-\\frac{9C^{2}}{32aB}\n",
    "\\end{align}\n",
    "\n",
    "Solution with minus before root has no physical meaning. \n",
    "\n",
    "\n",
    "Considering $F-F_{0}=0$ we get:\n",
    "\\begin{align}\n",
    "0 =  \\begin{cases} \\psi^{2}, & \\\\ \n",
    "B\\psi^2-C\\psi+a(T-T^{*}), & \\end{cases} \n",
    "\\end{align}\n",
    "Taking second equation into consideration one can derive the critical temperature from discriminant:\n",
    "\\begin{align}\n",
    "D&=C^{2}-4aB(T_{c}-T^{*})=0 \\\\\n",
    "T_{c} &= T^{*}+\\frac{C^{2}}{4aB} \n",
    "\\end{align}\n",
    "\n",
    "Consequently, $\\psi_{c}=\\psi(T_{c})=\\frac{3C + \\sqrt{9C^{2}-32aB(T^{*}+\\frac{C^{2}}{4aB}-T^{*})}}{8B}=\\frac{C}{2B}$\n",
    "\n",
    "$S=-\\frac{dF}{dT}=-(\\frac{dF_{0}}{dT}+a\\psi^{2})=S_{0}-a\\psi^{2}$\n",
    "\n",
    "$C_{v}=T(\\frac{dS}{dT})_{v}=T\\left(\\frac{dS_{0}}{dT}-2a\\psi\\frac{d\\psi}{dT}\\right)\n",
    "=T\\left(\\frac{dS_{0}}{dT}-2a\\frac{3C + \\sqrt{9C^{2}-32aB(T-T^{*})}}{8B}\n",
    "\\frac{1}{8B}\\frac{1}{2}\\frac{-32aB}{\\sqrt{9C^{2}-32aB(T-T^{*})}}\\right)=\n",
    "T\\left(\\frac{dS_{0}}{dT}+\\frac{3C + \\sqrt{9C^{2}-32aB(T-T^{*})}}{2B}\\frac{a^{2}}{\\sqrt{9C^{2}-32aB(T-T^{*})}}\\right)=\n",
    "T\\left(\\frac{dS_{0}}{dT}+\\frac{a^{2}}{2B}\\left(1+\\frac{3C}{\\sqrt{9C^{2}-32aB(T-T^{*})}}\\right)\\right)$\n",
    "\n",
    "\\begin{align}\n",
    "C_{v}=\\begin{cases}C_{0} &,T > T^{*}-\\frac{9C^{2}}{32aB}& \\\\\n",
    "        C_{0}+T\\frac{a^{2}}{2B}\\left(1+\\frac{3C}{\\sqrt{9C^{2}+32aB(T^{*}-T)}}\\right) &, T \\leqslant T^{*}-\\frac{9C^{2}}{32aB}&\n",
    "      \\end{cases}\n",
    "\\end{align}\n",
    "\n",
    "<span style=\"color:red\">The jump in the heat capacity:</span> $\\Delta C=T\\frac{a^{2}}{2B}\\left(1+\\frac{3C}{\\sqrt{9C^{2}+32aB(T^{*}-T)}}\\right)$\n",
    "\n",
    "Let's consider application of external field: $-h\\psi$.\n",
    "\n",
    "The new free energy is given: $F = F_{0} -h\\psi+a(T-T^{*})\\psi^{2}-C\\psi^{3}+B\\psi^{4}$ \n",
    "\n",
    "$\\frac{dF}{d\\psi}=0 \\Rightarrow 4B\\psi^{3}-3C\\psi^{2}+2a(T-T^{*})\\psi=h$\n",
    "\n",
    "$12B\\psi^{2}\\frac{d\\psi}{dh}-6C\\psi\\frac{d\\psi}{dh}+2a(T-T^{*})\\frac{d\\psi}{dh}=1$\n",
    "\n",
    "Susceptibility of the system: $\\chi = \\frac{d\\psi}{dh}=\\frac{1}{12B\\psi^{2}-6C\\psi+2a(T-T^{*})}$"
   ]
  },
  {
   "cell_type": "code",
   "execution_count": null,
   "metadata": {},
   "outputs": [],
   "source": []
  }
 ],
 "metadata": {
  "kernelspec": {
   "display_name": "Python 3",
   "language": "python",
   "name": "python3"
  },
  "language_info": {
   "codemirror_mode": {
    "name": "ipython",
    "version": 3
   },
   "file_extension": ".py",
   "mimetype": "text/x-python",
   "name": "python",
   "nbconvert_exporter": "python",
   "pygments_lexer": "ipython3",
   "version": "3.6.5"
  }
 },
 "nbformat": 4,
 "nbformat_minor": 2
}
