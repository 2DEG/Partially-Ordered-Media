{
 "cells": [
  {
   "cell_type": "markdown",
   "metadata": {},
   "source": [
    "# Problem 6\n",
    "\n",
    "A system of interacting layers with two-dimensional order parameter $\\xi$ is characterized by the energy\n",
    "\n",
    "$F=\\sum_i\\left[\\frac{1}{2}\\alpha\\left(T-T^{\\ast}\\right)\\xi_i^2+\\frac{1}{4}b\\xi_i^4+\\frac{1}{2}a_1\\xi_i\\cdot\\xi_{i+1}\\right]$, $i$  is the layer number, $\\xi_i$ is a vector in the plane of the film, the dot indicates scalar product of vectors, $\\alpha$ and $b$  are positive constants."
   ]
  },
  {
   "cell_type": "markdown",
   "metadata": {},
   "source": [
    "## $i=1,2:$\n",
    "\n",
    "$\\frac{\\partial F}{\\partial \\theta} = -\\frac{1}{2}a_1\\xi_1\\xi_2\\sin\\theta=0$, where $\\theta$ is an angle between vectors in layers.\n",
    "\n",
    "\\begin{align}\n",
    "\\begin{cases}\n",
    "&\\theta = 0, a_1 < 0 \\\\\n",
    "&\\theta = \\pi, a>0\n",
    "\\end{cases}\n",
    "\\end{align}\n",
    "\n",
    "$\\begin{align}\n",
    "\\begin{cases}\n",
    "&\\frac{\\partial F}{\\partial \\xi_1} = \\alpha(T-T^{*})\\xi_1 + b\\xi_{1}^{3}-\\frac{1}{2}|a_1|\\xi_2 \\\\\n",
    "&\\frac{\\partial F}{\\partial \\xi_2} = \\alpha(T-T^{*})\\xi_2 + b\\xi_{2}^{3}-\\frac{1}{2}|a_1|\\xi_1\n",
    "\\end{cases}\n",
    "\\end{align}$\n",
    "\n",
    "From there one could get:\n",
    "\n",
    "$\\xi_1^2-\\xi_2^2=0$ and $\\alpha(T-T^{*})+b(\\xi_1^2-\\xi_2^2)=0$. \n",
    "\n",
    "The first equation gives: $\\xi=\\xi_1=\\xi_2$, so overall:\n",
    "\n",
    "$\\begin{align}\n",
    "\\begin{cases}\n",
    "&\\xi = 0, T > T^{*}+\\frac{|a_1|}{2\\alpha} \\\\\n",
    "&\\xi = \\sqrt{\\frac{\\alpha}{b}(T^{*}-T+\\frac{|a_1|}{2\\alpha})}, T < T^{*}+\\frac{|a_1|}{2\\alpha}\n",
    "\\end{cases}\n",
    "\\end{align}$"
   ]
  },
  {
   "cell_type": "markdown",
   "metadata": {},
   "source": [
    "## infinite number of layers:\n",
    "\n",
    "Let's consider the same $\\xi$ for any given layer. That leads to:\n",
    "\n",
    "$\\frac{\\partial F}{\\partial \\xi}=N\\alpha(T-T^{*})\\xi+Nb\\xi^{3}-(N-1)|a_1|\\xi=0$.\n",
    "\n",
    "If $N \\rightarrow \\infty$: \n",
    "\n",
    "$\\alpha\\xi(T-T^{*}-\\frac{|a_1|}{\\alpha}) + b\\xi^{3}=0$\n",
    "\n",
    "$\\begin{align}\n",
    "\\begin{cases}\n",
    "&\\xi = 0, T > T^{*}+\\frac{|a_1|}{\\alpha} \\\\\n",
    "&\\xi = \\sqrt{\\frac{\\alpha}{b}(T^{*}-T+\\frac{|a_1|}{\\alpha})}, T < T^{*}+\\frac{|a_1|}{\\alpha}\n",
    "\\end{cases}\n",
    "\\end{align}$"
   ]
  },
  {
   "cell_type": "code",
   "execution_count": 3,
   "metadata": {},
   "outputs": [],
   "source": [
    "import numpy as np\n",
    "import matplotlib.pyplot as plt"
   ]
  },
  {
   "cell_type": "code",
   "execution_count": 13,
   "metadata": {},
   "outputs": [
    {
     "name": "stderr",
     "output_type": "stream",
     "text": [
      "/home/nick/anaconda3/lib/python3.6/site-packages/ipykernel_launcher.py:9: RuntimeWarning: invalid value encountered in sqrt\n",
      "  if __name__ == '__main__':\n",
      "/home/nick/anaconda3/lib/python3.6/site-packages/ipykernel_launcher.py:13: RuntimeWarning: invalid value encountered in sqrt\n",
      "  del sys.path[0]\n"
     ]
    },
    {
     "data": {
      "text/plain": [
       "<matplotlib.legend.Legend at 0x7f1337bd2978>"
      ]
     },
     "execution_count": 13,
     "metadata": {},
     "output_type": "execute_result"
    },
    {
     "data": {
      "image/png": "[encoded data removed]",
      "text/plain": [
       "<Figure size 432x288 with 1 Axes>"
      ]
     },
     "metadata": {},
     "output_type": "display_data"
    }
   ],
   "source": [
    "a = 2.0\n",
    "b = 1.0\n",
    "a_1 = 10.0\n",
    "tt = 72.0\n",
    "\n",
    "t = np.linspace(0, tt+np.abs(a_1)/(2.0*a), 1000)\n",
    "\n",
    "plt.grid()\n",
    "plt.plot(t, np.sqrt(a/b*(tt-t)), label='2 layers')\n",
    "\n",
    "t_1 = np.linspace(0.0, tt+np.abs(a_1)/(a), 1000)\n",
    "\n",
    "plt.plot(t, np.sqrt(a/b*(tt-t_1)), label='Infinite layers')\n",
    "\n",
    "plt.legend()\n"
   ]
  },
  {
   "cell_type": "code",
   "execution_count": null,
   "metadata": {},
   "outputs": [],
   "source": []
  }
 ],
 "metadata": {
  "kernelspec": {
   "display_name": "Python 3",
   "language": "python",
   "name": "python3"
  },
  "language_info": {
   "codemirror_mode": {
    "name": "ipython",
    "version": 3
   },
   "file_extension": ".py",
   "mimetype": "text/x-python",
   "name": "python",
   "nbconvert_exporter": "python",
   "pygments_lexer": "ipython3",
   "version": "3.6.5"
  }
 },
 "nbformat": 4,
 "nbformat_minor": 2
}
