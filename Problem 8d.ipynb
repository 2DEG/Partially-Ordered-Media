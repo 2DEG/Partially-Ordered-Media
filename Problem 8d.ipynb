{
 "cells": [
  {
   "cell_type": "markdown",
   "metadata": {},
   "source": [
    "# Problem 8d\n",
    "#### Energy of a system characterized by the order parameter $\\psi$in external field E is given by\n",
    "\n",
    "#### $\\frac{1}{2}\\alpha\\left(T-T^{\\ast}\\right)\\psi^2-C\\psi^3+\\frac{1}{4}b_0\\psi^4-E\\psi$, \n",
    "\n",
    "#### $\\alpha$, $b_0$ and $C$ are positive constants.\n",
    "\n",
    "#### Find the value of the field when the discontinuous transition vanishes."
   ]
  },
  {
   "cell_type": "markdown",
   "metadata": {},
   "source": [
    "## Solution:\n",
    "\n",
    "Let's $F = \\frac{1}{2}\\alpha\\left(T-T^{\\ast}\\right)\\psi^2-C\\psi^3+\\frac{1}{4}b_0\\psi^4-E\\psi$, which leads to\n",
    "\n",
    "$\\frac{dF}{d\\psi} = bo\\psi^{3} - 3C\\psi^{2}-\\alpha(T-T^{*})\\psi-E=0$.\n",
    "\n",
    "When the discontinuous transition vanishes, the function $\\psi(T)$ will become continuously differentiable with the only one value in each T. That allows us to consider $T(\\psi)$: \n",
    "\n",
    "$(T-T^{*})=\\frac{-E+bo\\psi^{3}-3C\\psi^{2}}{\\alpha\\psi}$ if $\\psi \\neq 0$\n",
    "\n",
    "At the critical field ($E=E_{c}$) we will have: $\\frac{d(T-T^{*})}{d\\psi}=\\frac{(3b0\\psi^{2}-6C\\psi)(\\alpha\\psi)-\n",
    "\\alpha(-E+bo\\psi^{3}-3C\\psi^{2})}{(\\alpha\\psi)^{2}}=\\frac{E+2bo\\psi^{3}-3C\\psi^{2}}{\\alpha\\psi^{2}}=0$\n",
    "\n",
    "$-E=2bo\\psi^{3}-3C\\psi^{2}$"
   ]
  },
  {
   "cell_type": "code",
   "execution_count": null,
   "metadata": {},
   "outputs": [],
   "source": [
    "import numpy as np \n",
    "import matplotlib.pyplot as plt"
   ]
  },
  {
   "cell_type": "code",
   "execution_count": 87,
   "metadata": {},
   "outputs": [
    {
     "data": {
      "text/plain": [
       "<matplotlib.legend.Legend at 0x7fc3628556d8>"
      ]
     },
     "execution_count": 87,
     "metadata": {},
     "output_type": "execute_result"
    },
    {
     "data": {
      "image/png": "[encoded data removed]",
      "text/plain": [
       "<Figure size 432x288 with 1 Axes>"
      ]
     },
     "metadata": {},
     "output_type": "display_data"
    }
   ],
   "source": [
    "plt.grid()\n",
    "c=1.5\n",
    "h=c*c*c/b*b\n",
    "x = np.linspace(0, 2, 3000)\n",
    "plt.plot([0.0, 2.0], [-h,-h], label='-E')\n",
    "plt.plot(x, (2*b*x*x*x-3.0*c*x*x))\n",
    "plt.legend()"
   ]
  },
  {
   "cell_type": "markdown",
   "metadata": {},
   "source": [
    "The $E_{c}$ can be found from $\\Delta = -4(-3C)^{3}E_{c}-27(2bo)^{2}E_{c}^{2}=0$, where $E_{c} > 0$. That leads to\n",
    "\n",
    "$E_{c} = \\frac{C^{3}}{(bo)^{2}}$"
   ]
  }
 ],
 "metadata": {
  "kernelspec": {
   "display_name": "Python 3",
   "language": "python",
   "name": "python3"
  },
  "language_info": {
   "codemirror_mode": {
    "name": "ipython",
    "version": 3
   },
   "file_extension": ".py",
   "mimetype": "text/x-python",
   "name": "python",
   "nbconvert_exporter": "python",
   "pygments_lexer": "ipython3",
   "version": "3.6.5"
  }
 },
 "nbformat": 4,
 "nbformat_minor": 2
}
