{
 "cells": [
  {
   "cell_type": "markdown",
   "metadata": {},
   "source": [
    "# Problem 3\n",
    "\n",
    "$F = \\frac{1}{2}\\int_{0}^{d}\\left[K\\left(\\frac{\\partial \\theta}{\\partial z}\\right)^{2}-\\frac{\\Delta \\epsilon}{4\\pi}E^{2}\\sin^{2}\\theta\\right]dz$. To minimize the integral Euler-Lagrange equation has to be solved:\n",
    "\n",
    "$\\frac{\\partial^2 \\theta}{\\partial z^2}+\\frac{\\Delta \\epsilon E^{2}}{4\\pi K}\\sin\\theta\\cos\\theta = 0$, leading to \n",
    "\n",
    "\\begin{align}\n",
    "    \\theta &\\equiv 0 \\\\\n",
    "    \\left(\\frac{\\partial \\theta}{\\partial z}\\right)^{2} &=\\frac{\\Delta \\epsilon E^{2}}{8\\pi K}\\cos2\\theta+c, \\text{where } c=f(\\theta_{m})\n",
    "\\end{align}\n",
    "\n",
    "$\\theta_{m}$ is tilting angle of molecules in the cell center. In the cell center $\\frac{\\partial \\theta}{\\partial z} = 0$. This ends up with:\n",
    "\n",
    "\\begin{equation}\n",
    "\\frac{Ed}{2}\\sqrt{\\frac{\\Delta\\epsilon}{4\\pi K}}=\\int^{\\theta_{m}}_{0}\\frac{d\\theta}{\\sqrt{\\sin^{2}\\theta_{m}-\\sin^{2}\\theta}}\n",
    "\\end{equation}"
   ]
  },
  {
   "cell_type": "code",
   "execution_count": 2,
   "metadata": {},
   "outputs": [],
   "source": [
    "import numpy as np\n",
    "import matplotlib.pyplot as plt"
   ]
  },
  {
   "cell_type": "code",
   "execution_count": 13,
   "metadata": {},
   "outputs": [
    {
     "name": "stderr",
     "output_type": "stream",
     "text": [
      "/home/nick/anaconda3/lib/python3.6/site-packages/ipykernel_launcher.py:6: RuntimeWarning: divide by zero encountered in true_divide\n",
      "  \n",
      "/home/nick/anaconda3/lib/python3.6/site-packages/ipykernel_launcher.py:7: RuntimeWarning: invalid value encountered in double_scalars\n",
      "  import sys\n",
      "/home/nick/anaconda3/lib/python3.6/site-packages/ipykernel_launcher.py:6: RuntimeWarning: invalid value encountered in sqrt\n",
      "  \n"
     ]
    },
    {
     "data": {
      "image/png": "[encoded data removed]",
      "text/plain": [
       "<Figure size 432x288 with 1 Axes>"
      ]
     },
     "metadata": {},
     "output_type": "display_data"
    }
   ],
   "source": [
    "N=1000\n",
    "theta_m = np.linspace(0, np.pi, N)\n",
    "\n",
    "def integration(theta_m, N):\n",
    "    x = np.linspace(0, theta_m-theta_m/N, N)\n",
    "    fx = 1/(np.sqrt(np.sin(theta_m)*np.sin(theta_m)-np.sin(x)*np.sin(x)))\n",
    "    return np.sum(fx)*(theta_m)/N\n",
    "\n",
    "result = np.array([integration(element, N) for element in theta_m])\n",
    "\n",
    "plt.grid()\n",
    "plt.plot(theta_m, result)\n",
    "plt.show()"
   ]
  },
  {
   "cell_type": "code",
   "execution_count": 12,
   "metadata": {},
   "outputs": [
    {
     "data": {
      "text/plain": [
       "1.5386444218403306"
      ]
     },
     "execution_count": 12,
     "metadata": {},
     "output_type": "execute_result"
    }
   ],
   "source": [
    "result[1]"
   ]
  },
  {
   "cell_type": "markdown",
   "metadata": {},
   "source": [
    "This could be considered as minimum of integral, and approximate is equal to $\\frac{\\pi}{2}$. So, cutoff energy is:\n",
    "\n",
    "$\\frac{E_{0}d}{2}\\sqrt{\\frac{\\Delta\\epsilon}{4\\pi K}} = \\frac{\\pi}{2} \\Rightarrow E_{0}=\\frac{\\pi}{d}\\sqrt{\\frac{4\\pi K}{\\Delta\\epsilon}}$"
   ]
  },
  {
   "cell_type": "markdown",
   "metadata": {},
   "source": [
    "To find out the type of behavior of $\\theta_{m}$, when $E$ is slightly exceeding $E_{0}$, let's consider $y = \\frac{Ed}{2}\\sqrt{\\frac{\\Delta\\epsilon}{4\\pi K}} = f(\\theta_{m})$. We will fit $y$ with linear fit at the small angles and than calculate inverse function."
   ]
  },
  {
   "cell_type": "code",
   "execution_count": 14,
   "metadata": {},
   "outputs": [],
   "source": [
    "from sklearn.linear_model import LinearRegression"
   ]
  },
  {
   "cell_type": "code",
   "execution_count": 20,
   "metadata": {},
   "outputs": [
    {
     "data": {
      "image/png": "[encoded data removed]",
      "text/plain": [
       "<Figure size 432x288 with 1 Axes>"
      ]
     },
     "metadata": {},
     "output_type": "display_data"
    }
   ],
   "source": [
    "reg = LinearRegression().fit(theta_m[1:100].reshape(-1, 1), result[1:100].reshape(-1, 1))\n",
    "\n",
    "plt.grid()\n",
    "plt.plot(theta_m, result)\n",
    "plt.plot(theta_m[1:500], reg.predict(theta_m[1:500].reshape(-1, 1)))\n",
    "plt.show()"
   ]
  },
  {
   "cell_type": "code",
   "execution_count": 28,
   "metadata": {},
   "outputs": [
    {
     "data": {
      "text/plain": [
       "array([1.53210954])"
      ]
     },
     "execution_count": 28,
     "metadata": {},
     "output_type": "execute_result"
    }
   ],
   "source": [
    "reg.intercept_"
   ]
  },
  {
   "cell_type": "code",
   "execution_count": 24,
   "metadata": {},
   "outputs": [
    {
     "data": {
      "text/plain": [
       "array([[0.12228374]])"
      ]
     },
     "execution_count": 24,
     "metadata": {},
     "output_type": "execute_result"
    }
   ],
   "source": [
    "reg.coef_"
   ]
  },
  {
   "cell_type": "markdown",
   "metadata": {},
   "source": [
    "As one can see $y\\approx0.122\\theta_{m}+1.53\\approx0.122\\theta_{m}+\\frac{\\pi}{2}$. Now we will get $\\theta_{m}=g(E)$, where $E$ is slightly exceeding $E_0$.\n",
    "\n",
    "\\begin{align}\n",
    "&\\frac{Ed}{2}\\sqrt{\\frac{\\Delta\\epsilon}{4\\pi K}} = 0.122\\theta_{m}+\\frac{\\pi}{2} \\\\\n",
    "&\\theta_m = \\frac{1}{0.122}\\left(\\frac{Ed}{2}\\sqrt{\\frac{\\Delta\\epsilon}{4\\pi K}}-\\frac{\\pi}{2}\\right)\n",
    "\\end{align}"
   ]
  },
  {
   "cell_type": "code",
   "execution_count": null,
   "metadata": {},
   "outputs": [],
   "source": []
  }
 ],
 "metadata": {
  "kernelspec": {
   "display_name": "Python 3",
   "language": "python",
   "name": "python3"
  },
  "language_info": {
   "codemirror_mode": {
    "name": "ipython",
    "version": 3
   },
   "file_extension": ".py",
   "mimetype": "text/x-python",
   "name": "python",
   "nbconvert_exporter": "python",
   "pygments_lexer": "ipython3",
   "version": "3.6.5"
  }
 },
 "nbformat": 4,
 "nbformat_minor": 2
}
