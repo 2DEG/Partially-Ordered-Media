{
 "cells": [
  {
   "cell_type": "markdown",
   "metadata": {},
   "source": [
    "# Problem 5\n",
    "\n",
    "Let's imagine large sphere of spheres. The outer layer has a thickness of atomic diameter (d). This layer contains 50% of inner amount of atoms (inside inner sphere with radius R >> d), which could be paraphrase as: the mass of outer layer is equal to the mass of inner volume. So, the outer layer mass is:\n",
    "\n",
    "$\\frac{4\\pi}{3}\\rho((R+d)^{3}-R^{3})=4\\pi\\rho(R^{2}d+Rd^{2})$\n",
    "\n",
    "The equality of masses could be written as:\n",
    "\n",
    "$4\\pi\\rho(R^{2}d+Rd^{2}) = \\frac{4\\pi}{3}\\rho R^{3} \\Rightarrow R^{2}-3Rd-3d^{2} = 0$, which leads to $R = \\frac{3d(1+\\sqrt{21})}{2}$.\n",
    "\n",
    "Considering the d/2=r=144 pm, one can find the particle size:"
   ]
  },
  {
   "cell_type": "code",
   "execution_count": 3,
   "metadata": {},
   "outputs": [
    {
     "data": {
      "text/plain": [
       "5.875484854213528e-26"
      ]
     },
     "execution_count": 3,
     "metadata": {},
     "output_type": "execute_result"
    }
   ],
   "source": [
    "import numpy as np\n",
    "\n",
    "4.0*np.pi/3.0*np.power(3*288*np.power(10.0,-12)*(1+np.sqrt(21))/2.0,3)"
   ]
  },
  {
   "cell_type": "markdown",
   "metadata": {},
   "source": [
    "Approximate size of the nanoparticle is 59 nm$^{3}$."
   ]
  },
  {
   "cell_type": "code",
   "execution_count": 4,
   "metadata": {},
   "outputs": [
    {
     "data": {
      "text/plain": [
       "2.411672700220923e-09"
      ]
     },
     "execution_count": 4,
     "metadata": {},
     "output_type": "execute_result"
    }
   ],
   "source": [
    "3*288*np.power(10.0,-12)*(1+np.sqrt(21))/2.0"
   ]
  },
  {
   "cell_type": "markdown",
   "metadata": {},
   "source": [
    "Approximate radius of the nanoparticle is 2.4 nm."
   ]
  }
 ],
 "metadata": {
  "kernelspec": {
   "display_name": "Python 3",
   "language": "python",
   "name": "python3"
  },
  "language_info": {
   "codemirror_mode": {
    "name": "ipython",
    "version": 3
   },
   "file_extension": ".py",
   "mimetype": "text/x-python",
   "name": "python",
   "nbconvert_exporter": "python",
   "pygments_lexer": "ipython3",
   "version": "3.6.5"
  }
 },
 "nbformat": 4,
 "nbformat_minor": 2
}
