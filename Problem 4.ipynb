{
 "cells": [
  {
   "cell_type": "markdown",
   "metadata": {},
   "source": [
    "# Problem 4\n",
    "\n",
    "Energy of a liquid crystal film in electric field E  directed along x axis has the form\n",
    "\n",
    "$F=\\int\\left[\\frac{1}{2}K_S\\left(\\bigtriangledown\\cdot c\\right)^2+\\frac{1}{2}K_B\\left(\\bigtriangledown\\times c\\right)^2-\\left(E\\cdot c\\right)^2\\right]dxdy$, where $c=\\left(\\cos\\varphi,\\:\\sin\\varphi\\right),\\:\\varphi=\\varphi\\left(x\\right)$"
   ]
  },
  {
   "cell_type": "markdown",
   "metadata": {},
   "source": [
    "$\\left(\\nabla \\cdot c\\right)^2 = \\left(\\frac{\\partial}{\\partial x}\\cos\\phi + \\frac{\\partial}{\\partial y}\\sin\\phi\\right)^{2} = (-\\sin\\phi\\frac{\\partial \\phi}{\\partial x})^{2}$\n",
    "\n",
    "$\\left(E\\cdot c\\right)^2=(E_{x}\\cos{\\phi})^{2}$\n",
    "\n",
    "$\\left(\\nabla \\times c\\right)^2 = \\left(\\frac{\\partial}{\\partial x}\\sin\\phi - \\frac{\\partial}{\\partial y}\\cos\\phi\\right)^{2} = (\\cos\\phi\\frac{\\partial \\phi}{\\partial x})^{2}$, so $F$ could be written as:\n",
    "\n",
    "$F=\\int\\left[\\left(\\frac{1}{2}K_S\\cos^{2}\\phi+\\frac{1}{2}K_B\\sin^2\\phi\\right)\\left(\\frac{\\partial \\phi}{\\partial x}\\right)^{2}-\\left(E_{x}\\cos{\\phi}\\right)^2\\right]dxdy$, considerind $K_{s}=K_{B}=K$ we will get:\n",
    "\n",
    "$F=\\int\\left[\\frac{1}{2}K\\left(\\frac{\\partial \\phi}{\\partial x}\\right)^{2}-\\left(E_{x}\\cos{\\phi}\\right)^2\\right]dxdy$, as integral now has no dependenncy on $y$-coordinate: $F=\\int dy\\int\\left[\\frac{1}{2}K\\left(\\frac{\\partial \\phi}{\\partial x}\\right)^{2}-\\left(E_{x}\\cos{\\phi}\\right)^2\\right]dx=\\int\\left[\\frac{1}{2}K\\left(\\frac{\\partial \\phi}{\\partial x}\\right)^{2}-\\left(E_{x}\\cos{\\phi}\\right)^2\\right]dx = \\int J\\left(x, \\phi(x), \\phi'(x)\\right)dx$, leading to:\n",
    "\n",
    "$\\frac{\\partial J}{\\partial \\phi}-\\frac{d}{dx}\\frac{\\partial J}{\\partial \\phi'} = 0$, where $\\frac{\\partial J}{\\partial \\phi}=2E_{x}\\cos{\\phi}\\sin{\\phi}$, and $\\frac{d}{dx}\\frac{\\partial J}{\\partial \\phi'}=\\frac{d}{dx}K\\frac{d \\phi}{dx}=K\\frac{d^{2}\\phi}{dx^{2}}$\n",
    "\n",
    "$K\\frac{d^{2}\\phi}{dx^{2}}=E_{x}\\sin{2\\phi} \\Rightarrow \\frac{K}{E_{x}}\\frac{d}{dx}\\left(\\frac{d\\phi}{dx}\\right)^{2}=-\\frac{1}{2}\\frac{d}{dx}\\cos{2\\phi} \\Rightarrow \\frac{2K}{E_{x}}\\left(\\frac{d\\phi}{dx}\\right)^{2}=1-\\cos{2\\phi}$ for $\\phi = 0, \\frac{d\\phi}{dx}=0$\n",
    "\n",
    "$\\sqrt{\\frac{K}{E}}\\frac{d\\phi}{dx}=\\sin{\\phi}$\n",
    "\n",
    "$\\int \\frac{d\\phi}{\\sin{\\phi}}=\\int \\frac{\\sin{\\phi}d\\phi}{1-\\cos^{2}\\phi}=-\\frac{1}{2}\\int \\left(\\frac{1}{1+\\cos{\\phi}}+\\frac{1}{1-\\cos\\phi}\\right)d\\cos\\phi=\\frac{1}{2}\\ln\\frac{1-\\cos{\\phi}}{1+\\cos{\\phi}}+C=\\ln\\tan\\frac{\\phi}{2}+C$\n",
    "\n",
    "$\\tan\\frac{\\phi}{2}=\\exp{\\left(x\\sqrt{\\frac{E_{x}}{K}}\\right)}$ is the expression for the wall structure. In a symmetrical way, it could be rewritten as: $\\phi=2\\arctan\\left[\\exp{\\left(-|x|\\sqrt{\\frac{E_{x}}{K}}\\right)}\\right]$"
   ]
  },
  {
   "cell_type": "code",
   "execution_count": null,
   "metadata": {},
   "outputs": [],
   "source": []
  }
 ],
 "metadata": {
  "kernelspec": {
   "display_name": "Python 3",
   "language": "python",
   "name": "python3"
  },
  "language_info": {
   "codemirror_mode": {
    "name": "ipython",
    "version": 3
   },
   "file_extension": ".py",
   "mimetype": "text/x-python",
   "name": "python",
   "nbconvert_exporter": "python",
   "pygments_lexer": "ipython3",
   "version": "3.6.5"
  }
 },
 "nbformat": 4,
 "nbformat_minor": 2
}
